{
 "cells": [
  {
   "cell_type": "code",
   "execution_count": 1,
   "metadata": {},
   "outputs": [],
   "source": [
    "# data setup imports\n",
    "import pandas as pd\n",
    "import matplotlib.pyplot as plt\n",
    "import numpy as np\n",
    "import warnings\n",
    "warnings.filterwarnings('ignore')\n",
    "    \n",
    "\n",
    "# sklearn imports\n",
    "import sklearn as sk\n",
    "from sklearn.preprocessing import StandardScaler\n",
    "from sklearn.model_selection import train_test_split\n",
    "from sklearn.model_selection import cross_val_score\n",
    "from sklearn.model_selection import cross_val_predict\n",
    "from sklearn.model_selection import GridSearchCV\n",
    "from sklearn.tree import DecisionTreeClassifier\n",
    "from sklearn.metrics import accuracy_score\n",
    "from sklearn.neighbors import KNeighborsClassifier\n",
    "from sklearn.naive_bayes import GaussianNB\n",
    "from sklearn.metrics import confusion_matrix\n",
    "from sklearn.metrics import classification_report\n",
    "from sklearn.metrics import roc_curve\n",
    "from sklearn.metrics import roc_auc_score\n",
    "from sklearn.svm import SVC\n",
    "from sklearn.neural_network import MLPClassifier\n",
    "from sklearn.ensemble import RandomForestClassifier\n",
    "\n",
    "file_name = \"../drunk_driving_violations.csv\"\n",
    "drunk_driving_df = pd.read_csv(file_name)"
   ]
  },
  {
   "cell_type": "code",
   "execution_count": 2,
   "metadata": {},
   "outputs": [],
   "source": [
    "# Read in features and labels for training and testing sets\n",
    "train_features = pd.read_csv('..\\drunk_df_train_features_oversampled.csv')\n",
    "train_label = pd.read_csv('..\\drunk_df_train_label_oversampled.csv')\n",
    "test_features = pd.read_csv('..\\drunk_df_test_features.csv')\n",
    "test_label = pd.read_csv('..\\drunk_df_test_label.csv')"
   ]
  },
  {
   "cell_type": "code",
   "execution_count": 3,
   "metadata": {},
   "outputs": [
    {
     "name": "stdout",
     "output_type": "stream",
     "text": [
      "Accuracy of Naive-Bayes 10-fold cross validation:  0.609954662890458\n",
      "Confusion Matrix: \n",
      "[[5145 5079]\n",
      " [2897 7328]]\n",
      "Classification Report: \n",
      "              precision    recall  f1-score   support\n",
      "\n",
      "           0       0.64      0.50      0.56     10224\n",
      "           1       0.59      0.72      0.65     10225\n",
      "\n",
      "   micro avg       0.61      0.61      0.61     20449\n",
      "   macro avg       0.62      0.61      0.61     20449\n",
      "weighted avg       0.62      0.61      0.61     20449\n",
      "\n",
      "Horrible f1-score - there are too many false negatives!\n"
     ]
    },
    {
     "data": {
      "image/png": "[encoded data removed]",
      "text/plain": [
       "<Figure size 432x288 with 1 Axes>"
      ]
     },
     "metadata": {},
     "output_type": "display_data"
    },
    {
     "name": "stdout",
     "output_type": "stream",
     "text": [
      "The area under the curve:  0.6445828849262327\n"
     ]
    }
   ],
   "source": [
    "############# Gaussian Naive-Bayes Classifier ###############\n",
    "nb_classifier = GaussianNB()\n",
    "nb_classifier = nb_classifier.fit(X=train_features, y=train_label.values.ravel())\n",
    "accuracy_of_each_fold = cross_val_score(estimator=nb_classifier, X=train_features, y=train_label.values.ravel(), cv=10)\n",
    "print(\"Accuracy of Naive-Bayes 10-fold cross validation: \", accuracy_of_each_fold.mean())\n",
    "\n",
    "# Calculate the confusion matrix of this classifier\n",
    "predictions = cross_val_predict(estimator=nb_classifier, X=train_features, y=train_label.values.ravel(), cv=10)\n",
    "print(\"Confusion Matrix: \")\n",
    "print(confusion_matrix(y_true=train_label.values, y_pred=predictions))\n",
    "print(\"Classification Report: \")\n",
    "print(classification_report(y_true=train_label.values, y_pred=predictions))\n",
    "print(\"Horrible f1-score - there are too many false negatives!\")\n",
    "\n",
    "# Plot ROC curve!\n",
    "predictions = nb_classifier.predict_proba(test_features)\n",
    "fpr, tpr, threshold = roc_curve(test_label.values.ravel(), predictions[:,1])\n",
    "plt.plot([0,1],[0,1],'k--') #plot the diagonal line\n",
    "plt.plot(fpr, tpr, label='NB') #plot the ROC curve\n",
    "plt.xlabel('fpr')\n",
    "plt.ylabel('tpr')\n",
    "plt.title('ROC Curve Naive Bayes')\n",
    "plt.show()\n",
    "print(\"The area under the curve: \", roc_auc_score(test_label, predictions[:,1]))"
   ]
  },
  {
   "cell_type": "code",
   "execution_count": 4,
   "metadata": {
    "scrolled": true
   },
   "outputs": [
    {
     "name": "stdout",
     "output_type": "stream",
     "text": [
      "Accuracy of DecisionTree holdout(entropy): \n",
      " 0.848087431693989\n",
      "Accuracy of DecisionTree holdout(gini and maxDepth 10): \n",
      " 0.8247723132969035\n",
      "Accuracy of DecisionTree holdout(entropy, maxSamplesSplit 5, minSampleLeaf 10): \n",
      " 0.8819672131147541\n",
      "Accuracy of DecisionTree with 10 fold crossval: \n",
      " 0.9178101096303776\n"
     ]
    }
   ],
   "source": [
    "############# PREDICTION WITH DECISION TREES ####################\n",
    "# Train a decision tree with holdout method, evaluate on test set\n",
    "tree_classifier = DecisionTreeClassifier(criterion=\"entropy\")\n",
    "tree_classifier = tree_classifier.fit(X=train_features, y=train_label)\n",
    "prediction_array = tree_classifier.predict(test_features)\n",
    "print(\"Accuracy of DecisionTree holdout(entropy): \\n\", accuracy_score(test_label.values, prediction_array))\n",
    "\n",
    "tree_classifier = DecisionTreeClassifier(criterion=\"gini\", max_depth=10)\n",
    "tree_classifier = tree_classifier.fit(X=train_features, y=train_label)\n",
    "prediction_array = tree_classifier.predict(test_features)\n",
    "print(\"Accuracy of DecisionTree holdout(gini and maxDepth 10): \\n\", accuracy_score(test_label.values, prediction_array))\n",
    "\n",
    "tree_classifier = DecisionTreeClassifier(criterion=\"entropy\", min_samples_split=5, min_samples_leaf=10)\n",
    "tree_classifier = tree_classifier.fit(X=train_features, y=train_label)\n",
    "prediction_array = tree_classifier.predict(test_features)\n",
    "print(\"Accuracy of DecisionTree holdout(entropy, maxSamplesSplit 5, minSampleLeaf 10): \\n\", accuracy_score(test_label.values, prediction_array))\n",
    "\n",
    "# Prediction accuracy is too high - the cost of this prediction result would be great!\n",
    "\n",
    "tree_classifier = DecisionTreeClassifier(criterion=\"entropy\", min_samples_split=5, min_samples_leaf=10)\n",
    "tree_classifier = tree_classifier.fit(X=train_features, y=train_label)\n",
    "accuracy_of_folds = cross_val_score(estimator=tree_classifier, X=train_features, y=train_label, cv=10)\n",
    "print(\"Accuracy of DecisionTree with 10 fold crossval: \\n\", accuracy_of_folds.mean())"
   ]
  },
  {
   "cell_type": "code",
   "execution_count": 5,
   "metadata": {},
   "outputs": [
    {
     "name": "stdout",
     "output_type": "stream",
     "text": [
      "Decision Tree Best Parameter Values:  {'max_depth': 13, 'max_features': 10, 'min_samples_leaf': 5}\n",
      "Decision Tree Accuracy with best parameters tested:  0.8755929385300014\n"
     ]
    }
   ],
   "source": [
    "# Avoid overfitting! Let's try to get the best parameters...\n",
    "criteriaNums = [5,8,10,13]\n",
    "\n",
    "parameters = {'max_depth': criteriaNums, 'min_samples_leaf': criteriaNums, 'max_features': criteriaNums[:3]}\n",
    "newTreeClassifier = DecisionTreeClassifier(criterion=\"entropy\")\n",
    "newTreeClassifier = newTreeClassifier.fit(X=train_features, y=train_label)\n",
    "gscv = GridSearchCV(estimator=newTreeClassifier, param_grid=parameters, cv=10)\n",
    "gscv.fit(train_features, train_label)\n",
    "\n",
    "print(\"Decision Tree Best Parameter Values: \", gscv.best_params_)\n",
    "print(\"Decision Tree Accuracy with best parameters tested: \", gscv.best_score_)"
   ]
  },
  {
   "cell_type": "code",
   "execution_count": 7,
   "metadata": {},
   "outputs": [
    {
     "name": "stdout",
     "output_type": "stream",
     "text": [
      "Decision Tree Official Accuracy:  0.8696886029523861\n"
     ]
    }
   ],
   "source": [
    "accuracyOfEachFold = cross_val_score(estimator=gscv, X=train_features, y=train_label, cv=10)\n",
    "print(\"Decision Tree Official Accuracy: \", accuracyOfEachFold.mean())"
   ]
  },
  {
   "cell_type": "code",
   "execution_count": 8,
   "metadata": {
    "scrolled": true
   },
   "outputs": [
    {
     "name": "stdout",
     "output_type": "stream",
     "text": [
      "Confusion Matrix: \n",
      "[[9322  902]\n",
      " [ 781 9444]]\n",
      "Classification Report: \n",
      "              precision    recall  f1-score   support\n",
      "\n",
      "           0       0.92      0.91      0.92     10224\n",
      "           1       0.91      0.92      0.92     10225\n",
      "\n",
      "   micro avg       0.92      0.92      0.92     20449\n",
      "   macro avg       0.92      0.92      0.92     20449\n",
      "weighted avg       0.92      0.92      0.92     20449\n",
      "\n"
     ]
    },
    {
     "data": {
      "image/png": "[encoded data removed]",
      "text/plain": [
       "<Figure size 432x288 with 1 Axes>"
      ]
     },
     "metadata": {},
     "output_type": "display_data"
    },
    {
     "name": "stdout",
     "output_type": "stream",
     "text": [
      "The area under the curve:  0.5210808504799921\n"
     ]
    }
   ],
   "source": [
    "predictions = cross_val_predict(estimator=newTreeClassifier, X=train_features, y=train_label.values.ravel(), cv=10)\n",
    "print(\"Confusion Matrix: \")\n",
    "print(confusion_matrix(y_true=train_label.values.ravel(), y_pred=predictions))\n",
    "print(\"Classification Report: \")\n",
    "print(classification_report(y_true=train_label.values.ravel(), y_pred=predictions))\n",
    "\n",
    "# Plot ROC curve!\n",
    "predictions = newTreeClassifier.predict_proba(test_features)\n",
    "\n",
    "fpr, tpr, threshold = roc_curve(test_label.values.ravel(), predictions[:,1])\n",
    "plt.plot([0,1],[0,1],'k--') #plot the diagonal line\n",
    "plt.plot(fpr, tpr, label='DT') #plot the ROC curve\n",
    "plt.xlabel('fpr')\n",
    "plt.ylabel('tpr')\n",
    "plt.title('ROC Curve Decision Tree Classifier')\n",
    "plt.show()\n",
    "print(\"The area under the curve: \", roc_auc_score(test_label, predictions[:,1]))"
   ]
  },
  {
   "cell_type": "code",
   "execution_count": 9,
   "metadata": {},
   "outputs": [
    {
     "name": "stdout",
     "output_type": "stream",
     "text": [
      "Official Accuracy:  0.7799897632206629\n"
     ]
    }
   ],
   "source": [
    "############# Neural Network ###############\n",
    "mlp_classifier = MLPClassifier(hidden_layer_sizes=(1,)) #single hidden layer\n",
    "mlp_classifier = mlp_classifier.fit(X=train_features, y=train_label.values.ravel())\n",
    "\n",
    "criteria_nums = [(10,),(20,),(30,),(40,),(50,),(60,)]\n",
    "activation_fns = ['logistic','tanh', 'relu']\n",
    "\n",
    "parameters = {'hidden_layer_sizes': criteria_nums, 'activation': activation_fns}\n",
    "gscv = GridSearchCV(estimator=mlp_classifier, param_grid=parameters, cv=5)\n",
    "gscv.fit(train_features, train_label.values.ravel())\n",
    "accuracyOfEachFold = cross_val_score(estimator=gscv, X=train_features, y=train_label.values.ravel(), cv=5)\n",
    "print(\"Official Accuracy: \", accuracyOfEachFold.mean())"
   ]
  },
  {
   "cell_type": "code",
   "execution_count": 10,
   "metadata": {},
   "outputs": [
    {
     "name": "stdout",
     "output_type": "stream",
     "text": [
      "Confusion Matrix: \n",
      "[[6923 3301]\n",
      " [4100 6125]]\n",
      "Classification Report: \n",
      "              precision    recall  f1-score   support\n",
      "\n",
      "           0       0.63      0.68      0.65     10224\n",
      "           1       0.65      0.60      0.62     10225\n",
      "\n",
      "   micro avg       0.64      0.64      0.64     20449\n",
      "   macro avg       0.64      0.64      0.64     20449\n",
      "weighted avg       0.64      0.64      0.64     20449\n",
      "\n"
     ]
    },
    {
     "data": {
      "image/png": "[encoded data removed]",
      "text/plain": [
       "<Figure size 432x288 with 1 Axes>"
      ]
     },
     "metadata": {},
     "output_type": "display_data"
    },
    {
     "name": "stdout",
     "output_type": "stream",
     "text": [
      "The area under the curve:  0.6779593796761179\n"
     ]
    }
   ],
   "source": [
    "predictions = cross_val_predict(estimator=mlp_classifier, X=train_features, y=train_label.values.ravel(), cv=10)\n",
    "print(\"Confusion Matrix: \")\n",
    "print(confusion_matrix(y_true=train_label.values.ravel(), y_pred=predictions))\n",
    "print(\"Classification Report: \")\n",
    "print(classification_report(y_true=train_label.values.ravel(), y_pred=predictions))\n",
    "\n",
    "# Plot ROC curve!\n",
    "predictions = mlp_classifier.predict_proba(test_features)\n",
    "\n",
    "fpr, tpr, threshold = roc_curve(test_label.values.ravel(), predictions[:,1])\n",
    "plt.plot([0,1],[0,1],'k--') #plot the diagonal line\n",
    "plt.plot(fpr, tpr, label='MLP') #plot the ROC curve\n",
    "plt.xlabel('fpr')\n",
    "plt.ylabel('tpr')\n",
    "plt.title('ROC Curve Neural Network Classifier')\n",
    "plt.show()\n",
    "print(\"The area under the curve: \", roc_auc_score(test_label, predictions[:,1]))"
   ]
  },
  {
   "cell_type": "code",
   "execution_count": 11,
   "metadata": {},
   "outputs": [
    {
     "name": "stdout",
     "output_type": "stream",
     "text": [
      "Official Accuracy:  0.9184812374544142\n"
     ]
    }
   ],
   "source": [
    "############## Random Forests ###############\n",
    "rf_classifier = RandomForestClassifier()\n",
    "rf_classifier = rf_classifier.fit(train_features, train_label.values.ravel())\n",
    "\n",
    "depthNums = []\n",
    "for i in range(35, 56):\n",
    "    depthNums.append(i)\n",
    "minSamples = [8, 10, 12]\n",
    "maxFeatures = ['sqrt', 'log2']\n",
    "\n",
    "parameters = {'max_depth': depthNums, 'min_samples_leaf': minSamples, 'max_features': maxFeatures}\n",
    "gscv = GridSearchCV(estimator=rf_classifier, param_grid=parameters, cv=5)\n",
    "gscv.fit(train_features, train_label.values.ravel())\n",
    "accuracyOfEachFold = cross_val_score(estimator=gscv, X=train_features, y=train_label.values.ravel(), cv=5)\n",
    "print(\"Official Accuracy: \", accuracyOfEachFold.mean())"
   ]
  },
  {
   "cell_type": "code",
   "execution_count": 12,
   "metadata": {},
   "outputs": [
    {
     "name": "stdout",
     "output_type": "stream",
     "text": [
      "Confusion Matrix: \n",
      "[[9963  261]\n",
      " [ 700 9525]]\n",
      "Classification Report: \n",
      "              precision    recall  f1-score   support\n",
      "\n",
      "           0       0.93      0.97      0.95     10224\n",
      "           1       0.97      0.93      0.95     10225\n",
      "\n",
      "   micro avg       0.95      0.95      0.95     20449\n",
      "   macro avg       0.95      0.95      0.95     20449\n",
      "weighted avg       0.95      0.95      0.95     20449\n",
      "\n"
     ]
    },
    {
     "data": {
      "image/png": "[encoded data removed]",
      "text/plain": [
       "<Figure size 432x288 with 1 Axes>"
      ]
     },
     "metadata": {},
     "output_type": "display_data"
    },
    {
     "name": "stdout",
     "output_type": "stream",
     "text": [
      "The area under the curve:  0.6545771824741782\n"
     ]
    }
   ],
   "source": [
    "predictions = cross_val_predict(estimator=rf_classifier, X=train_features, y=train_label.values.ravel(), cv=10)\n",
    "print(\"Confusion Matrix: \")\n",
    "print(confusion_matrix(y_true=train_label.values.ravel(), y_pred=predictions))\n",
    "print(\"Classification Report: \")\n",
    "print(classification_report(y_true=train_label.values.ravel(), y_pred=predictions))\n",
    "\n",
    "# Plot ROC curve!\n",
    "predictions = rf_classifier.predict_proba(test_features)\n",
    "\n",
    "fpr, tpr, threshold = roc_curve(test_label.values.ravel(), predictions[:,1])\n",
    "plt.plot([0,1],[0,1],'k--') #plot the diagonal line\n",
    "plt.plot(fpr, tpr, label='RF') #plot the ROC curve\n",
    "plt.xlabel('fpr')\n",
    "plt.ylabel('tpr')\n",
    "plt.title('ROC Curve Random Forests Classifier')\n",
    "plt.show()\n",
    "print(\"The area under the curve: \", roc_auc_score(test_label, predictions[:,1]))"
   ]
  },
  {
   "cell_type": "code",
   "execution_count": 13,
   "metadata": {},
   "outputs": [
    {
     "name": "stdout",
     "output_type": "stream",
     "text": [
      "Best Parameters:  {'knn__n_neighbors': 1, 'pca__n_components': 12}\n",
      "Accuracy with Best Parameters:  0.9291407892806495\n"
     ]
    }
   ],
   "source": [
    "############# K-Nearest Neighbor ###############\n",
    "from sklearn.decomposition import PCA\n",
    "from sklearn.pipeline import Pipeline\n",
    "\n",
    "pca = PCA()\n",
    "knnClassifier = KNeighborsClassifier()\n",
    "\n",
    "pipe = Pipeline(steps=[('pca', pca), ('knn', knnClassifier)])\n",
    "\n",
    "# Find the ideal k and features by testing all these options\n",
    "parameters = {'pca__n_components': list(range(1,13)),\n",
    "              'knn__n_neighbors': list(range(1,10))}\n",
    "\n",
    "gscvKNN = GridSearchCV(pipe, param_grid=parameters, cv=5, refit=True)\n",
    "gscvKNN.fit(train_features, train_label.values.ravel())\n",
    "print(\"Best Parameters: \", gscvKNN.best_params_)\n",
    "print(\"Accuracy with Best Parameters: \", gscvKNN.best_score_)"
   ]
  },
  {
   "cell_type": "code",
   "execution_count": 14,
   "metadata": {},
   "outputs": [
    {
     "name": "stdout",
     "output_type": "stream",
     "text": [
      "Official KNN Accuracy:  0.9351567818892172\n"
     ]
    }
   ],
   "source": [
    "# (KNN Continued)\n",
    "# Wrap with another cross-validation and report final accuracy\n",
    "accuracyOfEachFold = cross_val_score(estimator=gscvKNN, X=train_features, y=train_label.values.ravel(), cv=10)\n",
    "print(\"Official KNN Accuracy: \", accuracyOfEachFold.mean())"
   ]
  },
  {
   "cell_type": "code",
   "execution_count": 15,
   "metadata": {},
   "outputs": [
    {
     "name": "stdout",
     "output_type": "stream",
     "text": [
      "Confusion Matrix: \n",
      "[[ 9006  1218]\n",
      " [  108 10117]]\n",
      "Classification Report: \n",
      "              precision    recall  f1-score   support\n",
      "\n",
      "           0       0.99      0.88      0.93     10224\n",
      "           1       0.89      0.99      0.94     10225\n",
      "\n",
      "   micro avg       0.94      0.94      0.94     20449\n",
      "   macro avg       0.94      0.94      0.93     20449\n",
      "weighted avg       0.94      0.94      0.93     20449\n",
      "\n"
     ]
    },
    {
     "data": {
      "image/png": "[encoded data removed]",
      "text/plain": [
       "<Figure size 432x288 with 1 Axes>"
      ]
     },
     "metadata": {},
     "output_type": "display_data"
    },
    {
     "name": "stdout",
     "output_type": "stream",
     "text": [
      "The area under the curve:  0.5277940943176995\n"
     ]
    }
   ],
   "source": [
    "predictions = cross_val_predict(estimator=gscvKNN, X=train_features, y=train_label.values.ravel(), cv=10)\n",
    "print(\"Confusion Matrix: \")\n",
    "print(confusion_matrix(y_true=train_label.values.ravel(), y_pred=predictions))\n",
    "print(\"Classification Report: \")\n",
    "print(classification_report(y_true=train_label.values.ravel(), y_pred=predictions))\n",
    "\n",
    "# Plot ROC curve!\n",
    "predictions = gscvKNN.predict_proba(test_features)\n",
    "\n",
    "fpr, tpr, threshold = roc_curve(test_label.values.ravel(), predictions[:,1])\n",
    "plt.plot([0,1],[0,1],'k--') #plot the diagonal line\n",
    "plt.plot(fpr, tpr, label='KNN') #plot the ROC curve\n",
    "plt.xlabel('fpr')\n",
    "plt.ylabel('tpr')\n",
    "plt.title('ROC Curve KNN Classifier')\n",
    "plt.show()\n",
    "print(\"The area under the curve: \", roc_auc_score(test_label, predictions[:,1]))"
   ]
  }
 ],
 "metadata": {
  "kernelspec": {
   "display_name": "Python 3",
   "language": "python",
   "name": "python3"
  },
  "language_info": {
   "codemirror_mode": {
    "name": "ipython",
    "version": 3
   },
   "file_extension": ".py",
   "mimetype": "text/x-python",
   "name": "python",
   "nbconvert_exporter": "python",
   "pygments_lexer": "ipython3",
   "version": "3.6.5"
  }
 },
 "nbformat": 4,
 "nbformat_minor": 2
}
