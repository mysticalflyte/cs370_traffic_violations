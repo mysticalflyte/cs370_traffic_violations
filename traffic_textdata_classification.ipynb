{
 "cells": [
  {
   "cell_type": "code",
   "execution_count": 1,
   "metadata": {},
   "outputs": [],
   "source": [
    "# data setup imports\n",
    "import pandas as pd\n",
    "import matplotlib.pyplot as plt\n",
    "import numpy as np\n",
    "\n",
    "# sklearn imports\n",
    "import sklearn as sk\n",
    "from sklearn.preprocessing import StandardScaler\n",
    "from sklearn.model_selection import train_test_split\n",
    "from sklearn.model_selection import cross_val_score\n",
    "from sklearn.model_selection import cross_val_predict\n",
    "from sklearn.model_selection import GridSearchCV\n",
    "from sklearn.tree import DecisionTreeClassifier\n",
    "from sklearn.metrics import accuracy_score\n",
    "from sklearn.neighbors import KNeighborsClassifier\n",
    "from sklearn.naive_bayes import GaussianNB\n",
    "from sklearn.metrics import confusion_matrix\n",
    "from sklearn.metrics import classification_report\n",
    "from sklearn.metrics import roc_curve\n",
    "from sklearn.metrics import roc_auc_score\n",
    "from sklearn.svm import SVC\n",
    "from sklearn.neural_network import MLPClassifier\n",
    "from sklearn.ensemble import RandomForestClassifier\n",
    "\n",
    "file_name = \"../texting_driving_violations.csv\"\n",
    "texting_driving_df = pd.read_csv(file_name)"
   ]
  },
  {
   "cell_type": "code",
   "execution_count": 2,
   "metadata": {},
   "outputs": [
    {
     "name": "stdout",
     "output_type": "stream",
     "text": [
      "[[-1.04676574  0.54021375 -0.18823515 ... -1.08981888 -0.59106602\n",
      "   0.86433947]\n",
      " [ 0.80722912  0.97399807 -0.18823515 ... -1.08981888 -1.12240946\n",
      "   0.86433947]\n",
      " [-0.58326702 -0.76113922 -0.18823515 ... -1.08981888 -0.59106602\n",
      "  -1.15695284]\n",
      " ...\n",
      " [-0.58326702 -0.32735489  5.31250411 ...  0.91758367 -0.59106602\n",
      "   0.86433947]\n",
      " [-0.58326702 -0.97803138 -0.18823515 ...  0.91758367  1.00296428\n",
      "  -1.15695284]\n",
      " [-1.04676574  0.10642943 -0.18823515 ...  0.91758367  1.00296428\n",
      "  -1.15695284]]\n"
     ]
    }
   ],
   "source": [
    "# Separate feature columns from class label column\n",
    "texting_label_df = texting_driving_df['Contributed To Accident']\n",
    "texting_features_df = texting_driving_df.drop(['Contributed To Accident'], axis=1)\n",
    "\n",
    "# Standardize dataset features so that all values have mean=0 and variance=1\n",
    "# Not standardizing class labels.\n",
    "scaler_texting_features_df = StandardScaler().fit(texting_features_df)\n",
    "rescaled_texting_features_df = scaler_texting_features_df.transform(texting_features_df)\n",
    "\n",
    "print(rescaled_texting_features_df)"
   ]
  },
  {
   "cell_type": "code",
   "execution_count": 3,
   "metadata": {
    "scrolled": true
   },
   "outputs": [
    {
     "name": "stdout",
     "output_type": "stream",
     "text": [
      "Training Set Size:  27188\n",
      "Test Set Size:  6798\n",
      "Accuracy of DecisionTree holdout(entropy): \n",
      " 0.990879670491321\n",
      "Accuracy of DecisionTree holdout(gini and maxDepth 10): \n",
      " 0.9948514268902618\n",
      "Accuracy of DecisionTree holdout(entropy, maxSamplesSplit 5, minSampleLeaf 10): \n",
      " 0.9960282436010591\n",
      "Accuracy of DecisionTree with 10 fold crossval: \n",
      " 0.9961012641240101\n"
     ]
    }
   ],
   "source": [
    "############# PREDICTION WITH DECISION TREES ####################\n",
    "# Train a decision tree with holdout method, evaluate on test set\n",
    "texting_df_train_features, texting_df_test_features, texting_df_train_label, texting_df_test_label = train_test_split(rescaled_texting_features_df, texting_label_df, train_size = 0.8, test_size = 0.2)\n",
    "print(\"Training Set Size: \", len(texting_df_train_label))\n",
    "print(\"Test Set Size: \", len(texting_df_test_label))\n",
    "\n",
    "tree_classifier = DecisionTreeClassifier(criterion=\"entropy\")\n",
    "tree_classifier = tree_classifier.fit(X=texting_df_train_features, y=texting_df_train_label)\n",
    "prediction_array = tree_classifier.predict(texting_df_test_features)\n",
    "print(\"Accuracy of DecisionTree holdout(entropy): \\n\", accuracy_score(texting_df_test_label.values, prediction_array))\n",
    "\n",
    "tree_classifier = DecisionTreeClassifier(criterion=\"gini\", max_depth=10)\n",
    "tree_classifier = tree_classifier.fit(X=texting_df_train_features, y=texting_df_train_label)\n",
    "prediction_array = tree_classifier.predict(texting_df_test_features)\n",
    "print(\"Accuracy of DecisionTree holdout(gini and maxDepth 10): \\n\", accuracy_score(texting_df_test_label.values, prediction_array))\n",
    "\n",
    "tree_classifier = DecisionTreeClassifier(criterion=\"entropy\", min_samples_split=5, min_samples_leaf=10)\n",
    "tree_classifier = tree_classifier.fit(X=texting_df_train_features, y=texting_df_train_label)\n",
    "prediction_array = tree_classifier.predict(texting_df_test_features)\n",
    "print(\"Accuracy of DecisionTree holdout(entropy, maxSamplesSplit 5, minSampleLeaf 10): \\n\", accuracy_score(texting_df_test_label.values, prediction_array))\n",
    "\n",
    "# Prediction accuracy is too high - the cost of this prediction result would be great!\n",
    "\n",
    "tree_classifier = DecisionTreeClassifier(criterion=\"entropy\", min_samples_split=5, min_samples_leaf=10)\n",
    "tree_classifier = tree_classifier.fit(X=texting_df_train_features, y=texting_df_train_label)\n",
    "accuracy_of_folds = cross_val_score(estimator=tree_classifier, X=texting_df_train_features, y=texting_df_train_label, cv=10)\n",
    "print(\"Accuracy of DecisionTree with 10 fold crossval: \\n\", accuracy_of_folds.mean())"
   ]
  },
  {
   "cell_type": "code",
   "execution_count": 4,
   "metadata": {},
   "outputs": [
    {
     "name": "stdout",
     "output_type": "stream",
     "text": [
      "Decision Tree Best Parameter Values:  {'max_depth': 5, 'max_features': 5, 'min_samples_leaf': 5}\n",
      "Decision Tree Accuracy with best parameters tested:  0.9961012211269678\n"
     ]
    }
   ],
   "source": [
    "# Avoid overfitting! Let's try to get the best parameters...\n",
    "criteriaNums = [5,8,10,13]\n",
    "\n",
    "parameters = {'max_depth': criteriaNums, 'min_samples_leaf': criteriaNums, 'max_features': criteriaNums[:3]}\n",
    "newTreeClassifier = DecisionTreeClassifier(criterion=\"entropy\")\n",
    "newTreeClassifier = newTreeClassifier.fit(X=texting_df_train_features, y=texting_df_train_label)\n",
    "gscv = GridSearchCV(estimator=newTreeClassifier, param_grid=parameters, cv=10)\n",
    "gscv.fit(texting_df_train_features, texting_df_train_label)\n",
    "\n",
    "print(\"Decision Tree Best Parameter Values: \", gscv.best_params_)\n",
    "print(\"Decision Tree Accuracy with best parameters tested: \", gscv.best_score_)"
   ]
  },
  {
   "cell_type": "code",
   "execution_count": 5,
   "metadata": {},
   "outputs": [
    {
     "name": "stdout",
     "output_type": "stream",
     "text": [
      "Decision Tree Official Accuracy:  0.9961012641240101\n"
     ]
    }
   ],
   "source": [
    "accuracyOfEachFold = cross_val_score(estimator=gscv, X=texting_df_train_features, y=texting_df_train_label, cv=10)\n",
    "print(\"Decision Tree Official Accuracy: \", accuracyOfEachFold.mean())"
   ]
  },
  {
   "cell_type": "code",
   "execution_count": 6,
   "metadata": {},
   "outputs": [
    {
     "name": "stdout",
     "output_type": "stream",
     "text": [
      "Accuracy of Naive-Bayes 10-fold cross validation:  0.045753970414436955\n",
      "Confusion Matrix: \n",
      "[[ 1140 25941]\n",
      " [    3   104]]\n",
      "Classification Report: \n",
      "             precision    recall  f1-score   support\n",
      "\n",
      "          0       1.00      0.04      0.08     27081\n",
      "          1       0.00      0.97      0.01       107\n",
      "\n",
      "avg / total       0.99      0.05      0.08     27188\n",
      "\n",
      "Horrible f1-score - there are too many false negatives!\n"
     ]
    },
    {
     "data": {
      "image/png": "[encoded data removed]",
      "text/plain": [
       "<Figure size 432x288 with 1 Axes>"
      ]
     },
     "metadata": {},
     "output_type": "display_data"
    },
    {
     "name": "stdout",
     "output_type": "stream",
     "text": [
      "The area under the curve:  0.4608001272206824\n"
     ]
    }
   ],
   "source": [
    "############# Gaussian Naive-Bayes Classifier ###############\n",
    "texting_df_train_features, texting_df_test_features, texting_df_train_label, texting_df_test_label = train_test_split(rescaled_texting_features_df, texting_label_df, train_size = 0.8, test_size = 0.2)\n",
    "\n",
    "nb_classifier = GaussianNB()\n",
    "nb_classifier = nb_classifier.fit(X=texting_df_train_features, y=texting_df_train_label)\n",
    "accuracy_of_each_fold = cross_val_score(estimator=nb_classifier, X=texting_df_train_features, y=texting_df_train_label, cv=10)\n",
    "print(\"Accuracy of Naive-Bayes 10-fold cross validation: \", accuracy_of_each_fold.mean())\n",
    "\n",
    "# Calculate the confusion matrix of this classifier\n",
    "predictions = cross_val_predict(estimator=nb_classifier, X=texting_df_train_features, y=texting_df_train_label, cv=10)\n",
    "print(\"Confusion Matrix: \")\n",
    "print(confusion_matrix(y_true=texting_df_train_label.values, y_pred=predictions))\n",
    "print(\"Classification Report: \")\n",
    "print(classification_report(y_true=texting_df_train_label.values, y_pred=predictions))\n",
    "print(\"Horrible f1-score - there are too many false negatives!\")\n",
    "\n",
    "# Plot ROC curve!\n",
    "predictions = nb_classifier.predict_proba(texting_df_test_features)\n",
    "fpr, tpr, threshold = roc_curve(texting_df_test_label, predictions[:,1])\n",
    "plt.plot([0,1],[0,1],'k--') #plot the diagonal line\n",
    "plt.plot(fpr, tpr, label='NB') #plot the ROC curve\n",
    "plt.xlabel('fpr')\n",
    "plt.ylabel('tpr')\n",
    "plt.title('ROC Curve Naive Bayes')\n",
    "plt.show()\n",
    "print(\"The area under the curve: \", roc_auc_score(texting_df_test_label, predictions[:,1]))"
   ]
  },
  {
   "cell_type": "code",
   "execution_count": 7,
   "metadata": {},
   "outputs": [
    {
     "name": "stdout",
     "output_type": "stream",
     "text": [
      "Official Accuracy:  0.9960644522835157\n"
     ]
    }
   ],
   "source": [
    "############# Neural Network ###############\n",
    "mlp_classifier = MLPClassifier(hidden_layer_sizes=(1,)) #single hidden layer\n",
    "mlp_classifier = mlp_classifier.fit(X=texting_df_train_features, y=texting_df_train_label)\n",
    "\n",
    "criteria_nums = [(10,),(20,),(30,),(40,),(50,),(60,)]\n",
    "activation_fns = ['logistic','tanh', 'relu']\n",
    "\n",
    "parameters = {'hidden_layer_sizes': criteria_nums, 'activation': activation_fns}\n",
    "gscv = GridSearchCV(estimator=mlp_classifier, param_grid=parameters, cv=5)\n",
    "gscv.fit(texting_df_train_features, texting_df_train_label)\n",
    "accuracyOfEachFold = cross_val_score(estimator=gscv, X=texting_df_train_features, y=texting_df_train_label, cv=5)\n",
    "print(\"Official Accuracy: \", accuracyOfEachFold.mean())"
   ]
  },
  {
   "cell_type": "code",
   "execution_count": 8,
   "metadata": {},
   "outputs": [
    {
     "name": "stdout",
     "output_type": "stream",
     "text": [
      "Official Accuracy:  0.9960644522835157\n"
     ]
    }
   ],
   "source": [
    "############## Random Forests ###############\n",
    "rf_classifier = RandomForestClassifier()\n",
    "rf_classifier = rf_classifier.fit(texting_df_train_features, texting_df_train_label)\n",
    "\n",
    "depthNums = []\n",
    "for i in range(35, 56):\n",
    "    depthNums.append(i)\n",
    "minSamples = [8, 10, 12]\n",
    "maxFeatures = ['sqrt', 'log2']\n",
    "\n",
    "parameters = {'max_depth': depthNums, 'min_samples_leaf': minSamples, 'max_features': maxFeatures}\n",
    "gscv = GridSearchCV(estimator=rf_classifier, param_grid=parameters, cv=5)\n",
    "gscv.fit(texting_df_train_features, texting_df_train_label)\n",
    "accuracyOfEachFold = cross_val_score(estimator=gscv, X=texting_df_train_features, y=texting_df_train_label, cv=5)\n",
    "print(\"Official Accuracy: \", accuracyOfEachFold.mean())"
   ]
  },
  {
   "cell_type": "code",
   "execution_count": 9,
   "metadata": {},
   "outputs": [
    {
     "name": "stdout",
     "output_type": "stream",
     "text": [
      "Best Parameters:  {'knn__n_neighbors': 2, 'pca__n_components': 1}\n",
      "Accuracy with Best Parameters:  0.9960644401942034\n"
     ]
    }
   ],
   "source": [
    "############# K-Nearest Neighbor ###############\n",
    "from sklearn.decomposition import PCA\n",
    "from sklearn.pipeline import Pipeline\n",
    "\n",
    "pca = PCA()\n",
    "knnClassifier = KNeighborsClassifier()\n",
    "\n",
    "pipe = Pipeline(steps=[('pca', pca), ('knn', knnClassifier)])\n",
    "\n",
    "# Find the ideal k and features by testing all these options\n",
    "parameters = {'pca__n_components': list(range(1,13)),\n",
    "              'knn__n_neighbors': list(range(1,10))}\n",
    "\n",
    "gscvKNN = GridSearchCV(pipe, param_grid=parameters, cv=5, refit=True)\n",
    "gscvKNN.fit(texting_df_train_features, texting_df_train_label)\n",
    "print(\"Best Parameters: \", gscvKNN.best_params_)\n",
    "print(\"Accuracy with Best Parameters: \", gscvKNN.best_score_)"
   ]
  },
  {
   "cell_type": "code",
   "execution_count": 12,
   "metadata": {},
   "outputs": [
    {
     "name": "stdout",
     "output_type": "stream",
     "text": [
      "Official KNN Accuracy:  0.9960644724748089\n"
     ]
    }
   ],
   "source": [
    "# (KNN Continued)\n",
    "# Wrap with another cross-validation and report final accuracy\n",
    "accuracyOfEachFold = cross_val_score(estimator=gscvKNN, X=texting_df_train_features, y=texting_df_train_label, cv=10)\n",
    "print(\"Official KNN Accuracy: \", accuracyOfEachFold.mean())"
   ]
  },
  {
   "cell_type": "code",
   "execution_count": null,
   "metadata": {},
   "outputs": [],
   "source": []
  }
 ],
 "metadata": {
  "kernelspec": {
   "display_name": "Python 3",
   "language": "python",
   "name": "python3"
  },
  "language_info": {
   "codemirror_mode": {
    "name": "ipython",
    "version": 3
   },
   "file_extension": ".py",
   "mimetype": "text/x-python",
   "name": "python",
   "nbconvert_exporter": "python",
   "pygments_lexer": "ipython3",
   "version": "3.6.5"
  }
 },
 "nbformat": 4,
 "nbformat_minor": 2
}
