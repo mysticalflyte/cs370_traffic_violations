{
 "cells": [
  {
   "cell_type": "code",
   "execution_count": 8,
   "metadata": {},
   "outputs": [],
   "source": [
    "# data setup imports\n",
    "import pandas as pd\n",
    "import matplotlib.pyplot as plt\n",
    "import numpy as np\n",
    "import warnings\n",
    "warnings.filterwarnings('ignore')\n",
    "    \n",
    "\n",
    "# sklearn imports\n",
    "import sklearn as sk\n",
    "from sklearn.preprocessing import StandardScaler\n",
    "from sklearn.model_selection import train_test_split\n",
    "from sklearn.model_selection import cross_val_score\n",
    "from sklearn.model_selection import cross_val_predict\n",
    "from sklearn.model_selection import GridSearchCV\n",
    "from sklearn.tree import DecisionTreeClassifier\n",
    "from sklearn.metrics import accuracy_score\n",
    "from sklearn.neighbors import KNeighborsClassifier\n",
    "from sklearn.naive_bayes import GaussianNB\n",
    "from sklearn.metrics import confusion_matrix\n",
    "from sklearn.metrics import classification_report\n",
    "from sklearn.metrics import roc_curve\n",
    "from sklearn.metrics import roc_auc_score\n",
    "from sklearn.svm import SVC\n",
    "from sklearn.neural_network import MLPClassifier\n",
    "from sklearn.ensemble import RandomForestClassifier\n",
    "\n",
    "file_name = \"../texting_driving_violations.csv\"\n",
    "drunk_driving_df = pd.read_csv(file_name)"
   ]
  },
  {
   "cell_type": "code",
   "execution_count": 10,
   "metadata": {
    "scrolled": true
   },
   "outputs": [],
   "source": [
    "# Read in features and labels for training and testing sets\n",
    "train_features = pd.read_csv('../text_df_train_features_oversampled.csv')\n",
    "train_label = pd.read_csv('../text_df_train_label_oversampled.csv')\n",
    "test_features = pd.read_csv('../text_df_test_features.csv')\n",
    "test_label = pd.read_csv('../text_df_test_label.csv')"
   ]
  },
  {
   "cell_type": "code",
   "execution_count": 11,
   "metadata": {},
   "outputs": [
    {
     "name": "stdout",
     "output_type": "stream",
     "text": [
      "Accuracy of Naive-Bayes 10-fold cross validation:  0.5222747083701484\n",
      "Confusion Matrix: \n",
      "[[ 1562 25520]\n",
      " [  356 26727]]\n",
      "Classification Report: \n",
      "              precision    recall  f1-score   support\n",
      "\n",
      "           0       0.81      0.06      0.11     27082\n",
      "           1       0.51      0.99      0.67     27083\n",
      "\n",
      "   micro avg       0.52      0.52      0.52     54165\n",
      "   macro avg       0.66      0.52      0.39     54165\n",
      "weighted avg       0.66      0.52      0.39     54165\n",
      "\n",
      "Horrible f1-score - there are too many false negatives!\n"
     ]
    },
    {
     "data": {
      "image/png": "[encoded data removed]",
      "text/plain": [
       "<Figure size 432x288 with 1 Axes>"
      ]
     },
     "metadata": {},
     "output_type": "display_data"
    },
    {
     "name": "stdout",
     "output_type": "stream",
     "text": [
      "The area under the curve:  0.5679647763965979\n"
     ]
    }
   ],
   "source": [
    "############# Gaussian Naive-Bayes Classifier ###############\n",
    "nb_classifier = GaussianNB()\n",
    "nb_classifier = nb_classifier.fit(X=train_features, y=train_label.values.ravel())\n",
    "accuracy_of_each_fold = cross_val_score(estimator=nb_classifier, X=train_features, y=train_label.values.ravel(), cv=10)\n",
    "print(\"Accuracy of Naive-Bayes 10-fold cross validation: \", accuracy_of_each_fold.mean())\n",
    "\n",
    "# Calculate the confusion matrix of this classifier\n",
    "predictions = cross_val_predict(estimator=nb_classifier, X=train_features, y=train_label.values.ravel(), cv=10)\n",
    "print(\"Confusion Matrix: \")\n",
    "print(confusion_matrix(y_true=train_label.values, y_pred=predictions))\n",
    "print(\"Classification Report: \")\n",
    "print(classification_report(y_true=train_label.values, y_pred=predictions))\n",
    "print(\"Horrible f1-score - there are too many false negatives!\")\n",
    "\n",
    "# Plot ROC curve!\n",
    "predictions = nb_classifier.predict_proba(test_features)\n",
    "fpr, tpr, threshold = roc_curve(test_label.values.ravel(), predictions[:,1])\n",
    "plt.plot([0,1],[0,1],'k--') #plot the diagonal line\n",
    "plt.plot(fpr, tpr, label='NB') #plot the ROC curve\n",
    "plt.xlabel('fpr')\n",
    "plt.ylabel('tpr')\n",
    "plt.title('ROC Curve Naive Bayes')\n",
    "plt.show()\n",
    "print(\"The area under the curve: \", roc_auc_score(test_label, predictions[:,1]))"
   ]
  },
  {
   "cell_type": "code",
   "execution_count": null,
   "metadata": {
    "scrolled": true
   },
   "outputs": [],
   "source": [
    "############# PREDICTION WITH DECISION TREES ####################\n",
    "# Train a decision tree with holdout method, evaluate on test set\n",
    "tree_classifier = DecisionTreeClassifier(criterion=\"entropy\")\n",
    "tree_classifier = tree_classifier.fit(X=train_features, y=train_label)\n",
    "prediction_array = tree_classifier.predict(test_features)\n",
    "print(\"Accuracy of DecisionTree holdout(entropy): \\n\", accuracy_score(test_label.values, prediction_array))\n",
    "\n",
    "tree_classifier = DecisionTreeClassifier(criterion=\"gini\", max_depth=10)\n",
    "tree_classifier = tree_classifier.fit(X=train_features, y=train_label)\n",
    "prediction_array = tree_classifier.predict(test_features)\n",
    "print(\"Accuracy of DecisionTree holdout(gini and maxDepth 10): \\n\", accuracy_score(test_label.values, prediction_array))\n",
    "\n",
    "tree_classifier = DecisionTreeClassifier(criterion=\"entropy\", min_samples_split=5, min_samples_leaf=10)\n",
    "tree_classifier = tree_classifier.fit(X=train_features, y=train_label)\n",
    "prediction_array = tree_classifier.predict(test_features)\n",
    "print(\"Accuracy of DecisionTree holdout(entropy, maxSamplesSplit 5, minSampleLeaf 10): \\n\", accuracy_score(test_label.values, prediction_array))\n",
    "\n",
    "# Prediction accuracy is too high - the cost of this prediction result would be great!\n",
    "\n",
    "tree_classifier = DecisionTreeClassifier(criterion=\"entropy\", min_samples_split=5, min_samples_leaf=10)\n",
    "tree_classifier = tree_classifier.fit(X=train_features, y=train_label)\n",
    "accuracy_of_folds = cross_val_score(estimator=tree_classifier, X=train_features, y=train_label, cv=10)\n",
    "print(\"Accuracy of DecisionTree with 10 fold crossval: \\n\", accuracy_of_folds.mean())"
   ]
  },
  {
   "cell_type": "code",
   "execution_count": null,
   "metadata": {},
   "outputs": [],
   "source": [
    "# Avoid overfitting! Let's try to get the best parameters...\n",
    "criteriaNums = [5,8,10,13]\n",
    "\n",
    "parameters = {'max_depth': criteriaNums, 'min_samples_leaf': criteriaNums, 'max_features': criteriaNums[:3]}\n",
    "newTreeClassifier = DecisionTreeClassifier(criterion=\"entropy\")\n",
    "newTreeClassifier = newTreeClassifier.fit(X=train_features, y=train_label)\n",
    "gscv = GridSearchCV(estimator=newTreeClassifier, param_grid=parameters, cv=10)\n",
    "gscv.fit(train_features, train_label)\n",
    "\n",
    "print(\"Decision Tree Best Parameter Values: \", gscv.best_params_)\n",
    "print(\"Decision Tree Accuracy with best parameters tested: \", gscv.best_score_)"
   ]
  },
  {
   "cell_type": "code",
   "execution_count": null,
   "metadata": {},
   "outputs": [],
   "source": [
    "accuracyOfEachFold = cross_val_score(estimator=gscv, X=train_features, y=train_label, cv=10)\n",
    "print(\"Decision Tree Official Accuracy: \", accuracyOfEachFold.mean())"
   ]
  },
  {
   "cell_type": "code",
   "execution_count": null,
   "metadata": {
    "scrolled": true
   },
   "outputs": [],
   "source": [
    "predictions = cross_val_predict(estimator=newTreeClassifier, X=train_features, y=train_label.values.ravel(), cv=10)\n",
    "print(\"Confusion Matrix: \")\n",
    "print(confusion_matrix(y_true=train_label.values.ravel(), y_pred=predictions))\n",
    "print(\"Classification Report: \")\n",
    "print(classification_report(y_true=train_label.values.ravel(), y_pred=predictions))\n",
    "\n",
    "# Plot ROC curve!\n",
    "predictions = newTreeClassifier.predict_proba(test_features)\n",
    "\n",
    "fpr, tpr, threshold = roc_curve(test_label.values.ravel(), predictions[:,1])\n",
    "plt.plot([0,1],[0,1],'k--') #plot the diagonal line\n",
    "plt.plot(fpr, tpr, label='DT') #plot the ROC curve\n",
    "plt.xlabel('fpr')\n",
    "plt.ylabel('tpr')\n",
    "plt.title('ROC Curve Decision Tree Classifier')\n",
    "plt.show()\n",
    "print(\"The area under the curve: \", roc_auc_score(test_label, predictions[:,1]))"
   ]
  },
  {
   "cell_type": "code",
   "execution_count": null,
   "metadata": {},
   "outputs": [],
   "source": [
    "############# Neural Network ###############\n",
    "mlp_classifier = MLPClassifier(hidden_layer_sizes=(1,)) #single hidden layer\n",
    "mlp_classifier = mlp_classifier.fit(X=train_features, y=train_label.values.ravel())\n",
    "\n",
    "criteria_nums = [(10,),(20,),(30,),(40,),(50,),(60,)]\n",
    "activation_fns = ['logistic','tanh', 'relu']\n",
    "\n",
    "parameters = {'hidden_layer_sizes': criteria_nums, 'activation': activation_fns}\n",
    "gscv = GridSearchCV(estimator=mlp_classifier, param_grid=parameters, cv=5)\n",
    "gscv.fit(train_features, train_label.values.ravel())\n",
    "accuracyOfEachFold = cross_val_score(estimator=gscv, X=train_features, y=train_label.values.ravel(), cv=5)\n",
    "print(\"Official Accuracy: \", accuracyOfEachFold.mean())"
   ]
  },
  {
   "cell_type": "code",
   "execution_count": null,
   "metadata": {},
   "outputs": [],
   "source": [
    "predictions = cross_val_predict(estimator=mlp_classifier, X=train_features, y=train_label.values.ravel(), cv=10)\n",
    "print(\"Confusion Matrix: \")\n",
    "print(confusion_matrix(y_true=train_label.values.ravel(), y_pred=predictions))\n",
    "print(\"Classification Report: \")\n",
    "print(classification_report(y_true=train_label.values.ravel(), y_pred=predictions))\n",
    "\n",
    "# Plot ROC curve!\n",
    "predictions = mlp_classifier.predict_proba(test_features)\n",
    "\n",
    "fpr, tpr, threshold = roc_curve(test_label.values.ravel(), predictions[:,1])\n",
    "plt.plot([0,1],[0,1],'k--') #plot the diagonal line\n",
    "plt.plot(fpr, tpr, label='MLP') #plot the ROC curve\n",
    "plt.xlabel('fpr')\n",
    "plt.ylabel('tpr')\n",
    "plt.title('ROC Curve Neural Network Classifier')\n",
    "plt.show()\n",
    "print(\"The area under the curve: \", roc_auc_score(test_label, predictions[:,1]))"
   ]
  },
  {
   "cell_type": "code",
   "execution_count": null,
   "metadata": {},
   "outputs": [],
   "source": [
    "############## Random Forests ###############\n",
    "rf_classifier = RandomForestClassifier()\n",
    "rf_classifier = rf_classifier.fit(train_features, train_label.values.ravel())\n",
    "\n",
    "depthNums = []\n",
    "for i in range(35, 56):\n",
    "    depthNums.append(i)\n",
    "minSamples = [8, 10, 12]\n",
    "maxFeatures = ['sqrt', 'log2']\n",
    "\n",
    "parameters = {'max_depth': depthNums, 'min_samples_leaf': minSamples, 'max_features': maxFeatures}\n",
    "gscv = GridSearchCV(estimator=rf_classifier, param_grid=parameters, cv=5)\n",
    "gscv.fit(train_features, train_label.values.ravel())\n",
    "accuracyOfEachFold = cross_val_score(estimator=gscv, X=train_features, y=train_label.values.ravel(), cv=5)\n",
    "print(\"Official Accuracy: \", accuracyOfEachFold.mean())"
   ]
  },
  {
   "cell_type": "code",
   "execution_count": null,
   "metadata": {},
   "outputs": [],
   "source": [
    "predictions = cross_val_predict(estimator=rf_classifier, X=train_features, y=train_label.values.ravel(), cv=10)\n",
    "print(\"Confusion Matrix: \")\n",
    "print(confusion_matrix(y_true=train_label.values.ravel(), y_pred=predictions))\n",
    "print(\"Classification Report: \")\n",
    "print(classification_report(y_true=train_label.values.ravel(), y_pred=predictions))\n",
    "\n",
    "# Plot ROC curve!\n",
    "predictions = rf_classifier.predict_proba(test_features)\n",
    "\n",
    "fpr, tpr, threshold = roc_curve(test_label.values.ravel(), predictions[:,1])\n",
    "plt.plot([0,1],[0,1],'k--') #plot the diagonal line\n",
    "plt.plot(fpr, tpr, label='RF') #plot the ROC curve\n",
    "plt.xlabel('fpr')\n",
    "plt.ylabel('tpr')\n",
    "plt.title('ROC Curve Random Forests Classifier')\n",
    "plt.show()\n",
    "print(\"The area under the curve: \", roc_auc_score(test_label, predictions[:,1]))"
   ]
  },
  {
   "cell_type": "code",
   "execution_count": null,
   "metadata": {},
   "outputs": [],
   "source": [
    "############# K-Nearest Neighbor ###############\n",
    "from sklearn.decomposition import PCA\n",
    "from sklearn.pipeline import Pipeline\n",
    "\n",
    "pca = PCA()\n",
    "knnClassifier = KNeighborsClassifier()\n",
    "\n",
    "pipe = Pipeline(steps=[('pca', pca), ('knn', knnClassifier)])\n",
    "\n",
    "# Find the ideal k and features by testing all these options\n",
    "parameters = {'pca__n_components': list(range(1,13)),\n",
    "              'knn__n_neighbors': list(range(1,10))}\n",
    "\n",
    "gscvKNN = GridSearchCV(pipe, param_grid=parameters, cv=5, refit=True)\n",
    "gscvKNN.fit(train_features, train_label.values.ravel())\n",
    "print(\"Best Parameters: \", gscvKNN.best_params_)\n",
    "print(\"Accuracy with Best Parameters: \", gscvKNN.best_score_)"
   ]
  },
  {
   "cell_type": "code",
   "execution_count": null,
   "metadata": {},
   "outputs": [],
   "source": [
    "# (KNN Continued)\n",
    "# Wrap with another cross-validation and report final accuracy\n",
    "accuracyOfEachFold = cross_val_score(estimator=gscvKNN, X=train_features, y=train_label.values.ravel(), cv=10)\n",
    "print(\"Official KNN Accuracy: \", accuracyOfEachFold.mean())"
   ]
  },
  {
   "cell_type": "code",
   "execution_count": null,
   "metadata": {},
   "outputs": [],
   "source": [
    "predictions = cross_val_predict(estimator=gscvKNN, X=train_features, y=train_label.values.ravel(), cv=10)\n",
    "print(\"Confusion Matrix: \")\n",
    "print(confusion_matrix(y_true=train_label.values.ravel(), y_pred=predictions))\n",
    "print(\"Classification Report: \")\n",
    "print(classification_report(y_true=train_label.values.ravel(), y_pred=predictions))\n",
    "\n",
    "# Plot ROC curve!\n",
    "predictions = gscvKNN.predict_proba(test_features)\n",
    "\n",
    "fpr, tpr, threshold = roc_curve(test_label.values.ravel(), predictions[:,1])\n",
    "plt.plot([0,1],[0,1],'k--') #plot the diagonal line\n",
    "plt.plot(fpr, tpr, label='KNN') #plot the ROC curve\n",
    "plt.xlabel('fpr')\n",
    "plt.ylabel('tpr')\n",
    "plt.title('ROC Curve KNN Classifier')\n",
    "plt.show()\n",
    "print(\"The area under the curve: \", roc_auc_score(test_label, predictions[:,1]))"
   ]
  }
 ],
 "metadata": {
  "kernelspec": {
   "display_name": "Python 3",
   "language": "python",
   "name": "python3"
  },
  "language_info": {
   "codemirror_mode": {
    "name": "ipython",
    "version": 3
   },
   "file_extension": ".py",
   "mimetype": "text/x-python",
   "name": "python",
   "nbconvert_exporter": "python",
   "pygments_lexer": "ipython3",
   "version": "3.6.5"
  }
 },
 "nbformat": 4,
 "nbformat_minor": 2
}
